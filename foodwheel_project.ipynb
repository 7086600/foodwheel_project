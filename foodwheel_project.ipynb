{
 "cells": [
  {
   "cell_type": "markdown",
   "metadata": {},
   "source": [
    "## Board Slides for FoodWheel\n",
    "***"
   ]
  },
  {
   "cell_type": "markdown",
   "metadata": {},
   "source": [
    "## Project Requirements\n",
    "\n",
    "1. Before we begin analyzing our data, we need to import two Python packages. To be able to load in and inspect our datasets, we must first import the pandas package. We will also need to create visualizations to help us analyze the data. This requires us to import pyplot, a subset of the Matplotlib package. "
   ]
  },
  {
   "cell_type": "code",
   "execution_count": null,
   "metadata": {},
   "outputs": [],
   "source": [
    "import pandas as pd\n",
    "import matplotlib.pyplot as plt"
   ]
  },
  {
   "cell_type": "markdown",
   "metadata": {},
   "source": [
    "## Cuisine Offerings\n",
    "\n",
    "2. Now that we have imported the pandas package, we can begin looking at our data. Load and inspect the restaurant data from `restaurants.csv` into a DataFrame called `restaurants`.\n",
    "\n",
    "    **Hint:**\n",
    "\n",
    "    Inspect the elements of your dataset using `.head()`."
   ]
  },
  {
   "cell_type": "code",
   "execution_count": null,
   "metadata": {},
   "outputs": [],
   "source": []
  },
  {
   "cell_type": "markdown",
   "metadata": {},
   "source": [
    "3. Now that we have our data loaded in and inspected, we can start to ask some questions about the data. Suppose we wanted to know how many different types of cuisine FoodWheel offers and how many different restaurants serve that type of cuisine. Print out your answers to both questions.\n",
    "    \n",
    "    **Hint:**\n",
    "    \n",
    "    Use `.nunique()` to find the number of unique types of food.\n",
    "\n",
    "    Use `.groupby()` and `.count()` to aggregate our data.  Save your results to a variable called `cuisine_counts` and print your result."
   ]
  },
  {
   "cell_type": "code",
   "execution_count": null,
   "metadata": {},
   "outputs": [],
   "source": []
  },
  {
   "cell_type": "markdown",
   "metadata": {},
   "source": [
    "4. The board wants to make sure that FoodWheel offers a wide variety of restaurants. Having many different options makes customers more likely to come back. Create a pie chart that shows the different types of cuisines available on FoodWheel.\n",
    "\n",
    "    **Hint:**\n",
    "   \n",
    "    <u>Make sure that your pie chart includes:</u>\n",
    "     \n",
    "     -Labels for each cuisine (i.e, \"American\", \"Chinese\", etc.)\n",
    "     \n",
    "     -Percent labels using `autopct`.\n",
    "     \n",
    "     -A title.\n",
    "     \n",
    "     -Use `plt.axis('equal')` to make the pie chart a perfect circle.\n",
    "     \n",
    "     -`plt.show()` to display your chart."
   ]
  },
  {
   "cell_type": "code",
   "execution_count": null,
   "metadata": {},
   "outputs": [],
   "source": []
  },
  {
   "cell_type": "markdown",
   "metadata": {},
   "source": [
    "## Order Price Over Time\n",
    "\n",
    "5. FoodWheel is a relatively new start-up.  They launched one year ago and have grown more popular since then.  Management suspects that the average amount spent on each order has increased over time. \n",
    "\n",
    "    First, load in the `orders.csv` dataset as `orders` and inspect it.\n",
    "    \n",
    "    **Hint:**\n",
    "    \n",
    "    Start by loading the data from `orders.csv` into the DataFrame called `orders`.\n",
    "\n",
    "    Examine the first few rows of `orders` using `head()`."
   ]
  },
  {
   "cell_type": "code",
   "execution_count": null,
   "metadata": {},
   "outputs": [],
   "source": []
  },
  {
   "cell_type": "markdown",
   "metadata": {},
   "source": [
    "6. Perhaps tracking the orders made per month can help us determine a trend. Group the `orders` data by month.\n",
    "\n",
    "    **Hint:**\n",
    "    \n",
    "    Create a new column in `order` called `month` that contains the month that the order was placed.\n",
    "\n",
    "    The function `split()` will split a string on a character.  For instance, if `mydate` is the string `9-26-2017`, then `mydate.split('-')` would return the list `['9', '26', '2017']`.  `mydate.split('-')[0]` would return `'9'`."
   ]
  },
  {
   "cell_type": "code",
   "execution_count": null,
   "metadata": {},
   "outputs": [],
   "source": []
  },
  {
   "cell_type": "markdown",
   "metadata": {},
   "source": [
    "7. While we are interested in the average order amount spent each month (average price), it wouldn't hurt to include the standard deviation as well. Calculate the average and standard deviation of the amount spent per month (`price`) and store each as its own separate variable.\n",
    "\n",
    "    **Hint:**\n",
    "    \n",
    "    Group `orders` by `month` and get the average order amount in each `month` using `.mean()`. Save your answer to `avg_order`.\n",
    "\n",
    "    Calculate the standard deviation for each month using `.std()`.  Save this to `std_order`.\n"
   ]
  },
  {
   "cell_type": "code",
   "execution_count": null,
   "metadata": {},
   "outputs": [],
   "source": []
  },
  {
   "cell_type": "markdown",
   "metadata": {},
   "source": [
    "8. At last, we can now visualize our data. Create a bar plot that demonstrates the trend in average order size over time. Make sure to include the following information:\n",
    "\n",
    "     -The height of each bar should come from the `price` field from your DataFrame in step 7 (`avg_order`).\n",
    "     \n",
    "     -Use the standard deviations from step 7 (`std_order`) as the `yerr`.\n",
    "     \n",
    "     -The error capsize should be 5.\n",
    "     \n",
    "     -Make sure that you label each bar with the name of the month (i.e., 4 = April).\n",
    "     \n",
    "     -Also be sure to label the y-axis.\n",
    "     \n",
    "     -Give your plot a descriptive title.\n",
    "     \n",
    "     **Hint:** \n",
    "   \n",
    "   The height of the bar plot should be set to `avg_order.price`, and the `yerr` should be set to `std_order.price`."
   ]
  },
  {
   "cell_type": "code",
   "execution_count": null,
   "metadata": {},
   "outputs": [],
   "source": []
  },
  {
   "cell_type": "markdown",
   "metadata": {},
   "source": [
    "## Customer Orders\n",
    "\n",
    "9. There is a range of amounts that customers spend at FoodWheel. Create a `customer_amount` DataFrame that stores each customer and how much they order.\n",
    "\n",
    "    **Hint:**\n",
    "    \n",
    "    Start by grouping `orders` by `customer_id` and calculating the total amount spent by each customer.  Save your results to `customer_amount`.\n"
   ]
  },
  {
   "cell_type": "code",
   "execution_count": null,
   "metadata": {},
   "outputs": [],
   "source": []
  },
  {
   "cell_type": "markdown",
   "metadata": {},
   "source": [
    "10. Create a histogram of the amount spent by each customer over the past six months with the following format:\n",
    "\n",
    "     -The range should be from 0 to 200\n",
    "     \n",
    "     -The number of bins should be 40\n",
    "     \n",
    "     -Label the x-axis `Total Spent`\n",
    "     \n",
    "     -Label the y-axis `Number of Customers`\n",
    "     \n",
    "     -Add a title"
   ]
  },
  {
   "cell_type": "code",
   "execution_count": null,
   "metadata": {},
   "outputs": [],
   "source": []
  },
  {
   "cell_type": "markdown",
   "metadata": {},
   "source": [
    "### Congratulations!! \n",
    "\n",
    "The team loves your analysis, and plan to use the information you have gathered to make beneficial decisions for the company and community. There is an additional task of adding the links for each of the paintings to the main list. This task can be considered a challenge that does not need to be completed to move on to the next section."
   ]
  },
  {
   "cell_type": "markdown",
   "metadata": {},
   "source": [
    "### Extra Challenge\n",
    "\n",
    "After a great round of applause, a member of the senior leadership board would quickly like to see the neighborhoods that have the most restaurants. \n",
    "\n",
    "Create a visualization to display the restaurant count for each neighborhood."
   ]
  },
  {
   "cell_type": "markdown",
   "metadata": {},
   "source": [
    "**Hint:**\n",
    "\n",
    "View the unique neighborhoods.\n",
    "\n",
    "Calculate the value counts of the neighborhood variable.\n",
    "\n",
    "Create a list of the neighborhood count values."
   ]
  },
  {
   "cell_type": "code",
   "execution_count": null,
   "metadata": {},
   "outputs": [],
   "source": []
  }
 ],
 "metadata": {
  "kernelspec": {
   "display_name": "Python 3",
   "language": "python",
   "name": "python3"
  },
  "language_info": {
   "codemirror_mode": {
    "name": "ipython",
    "version": 3
   },
   "file_extension": ".py",
   "mimetype": "text/x-python",
   "name": "python",
   "nbconvert_exporter": "python",
   "pygments_lexer": "ipython3",
   "version": "3.7.3"
  },
  "toc": {
   "base_numbering": 1,
   "nav_menu": {},
   "number_sections": true,
   "sideBar": true,
   "skip_h1_title": false,
   "title_cell": "Table of Contents",
   "title_sidebar": "Contents",
   "toc_cell": false,
   "toc_position": {},
   "toc_section_display": true,
   "toc_window_display": false
  }
 },
 "nbformat": 4,
 "nbformat_minor": 2
}
